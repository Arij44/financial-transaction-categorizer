{
  "nbformat": 4,
  "nbformat_minor": 0,
  "metadata": {
    "colab": {
      "provenance": []
    },
    "kernelspec": {
      "name": "python3",
      "display_name": "Python 3"
    },
    "language_info": {
      "name": "python"
    }
  },
  "cells": [
    {
      "cell_type": "code",
      "execution_count": null,
      "metadata": {
        "id": "OrhYGnwWVkvF"
      },
      "outputs": [],
      "source": [
        "import pandas as pd\n",
        "import numpy as np\n",
        "import matplotlib.pyplot as plt\n",
        "import seaborn as sns\n",
        "\n",
        "from sklearn.metrics import classification_report\n",
        "from sklearn.model_selection import train_test_split\n",
        "from sklearn.linear_model import LinearRegression"
      ]
    },
    {
      "cell_type": "code",
      "source": [
        "df = pd.read_csv(\"personal_transactions.csv\")"
      ],
      "metadata": {
        "id": "vkRN-KIZrjgk"
      },
      "execution_count": null,
      "outputs": []
    },
    {
      "cell_type": "code",
      "source": [
        "df.head()"
      ],
      "metadata": {
        "id": "KpKueWTlvKAi"
      },
      "execution_count": null,
      "outputs": []
    },
    {
      "cell_type": "markdown",
      "source": [
        "Feature engineering"
      ],
      "metadata": {
        "id": "V0rgO7kukrtJ"
      }
    },
    {
      "cell_type": "markdown",
      "source": [
        " Time Period Selection"
      ],
      "metadata": {
        "id": "cWg7Tw9lpbPy"
      }
    },
    {
      "cell_type": "code",
      "source": [
        "df['Date'] = pd.to_datetime(df['Date'])"
      ],
      "metadata": {
        "id": "3QePClrzp3sw"
      },
      "execution_count": null,
      "outputs": []
    },
    {
      "cell_type": "code",
      "source": [
        "def get_monthly_data(transactions):\n",
        "\n",
        "  today = pd.Timestamp(\"today\")\n",
        "  last_month_start = today - pd.DateOffset(months=1)\n",
        "  return transactions[(df['Date'] >= last_month_start) & (df['Date'] < today)]\n",
        "\n",
        "monthly_data = get_monthly_data(df.copy())\n"
      ],
      "metadata": {
        "id": "ASXWFQuspa2T"
      },
      "execution_count": null,
      "outputs": []
    },
    {
      "cell_type": "code",
      "source": [
        "monthly_data.head(10)"
      ],
      "metadata": {
        "id": "ZntTFtsqyMMr"
      },
      "execution_count": null,
      "outputs": []
    },
    {
      "cell_type": "markdown",
      "source": [
        "Past Spending Analysis"
      ],
      "metadata": {
        "id": "BIGxhQlPp9nO"
      }
    },
    {
      "cell_type": "code",
      "source": [
        "def calculate_avg_spend_per_category(data):\n",
        "\n",
        "  grouped_data = df.groupby(\"Category\").agg({\"Amount\": \"sum\", \"Date\": \"count\"})\n",
        "\n",
        "  grouped_data[\"avg_spend\"] = grouped_data[\"Amount\"] / grouped_data[\"Date\"]\n",
        "  return grouped_data[\"avg_spend\"]\n",
        "\n",
        "avg_monthly_spend = calculate_avg_spend_per_category(monthly_data)\n"
      ],
      "metadata": {
        "id": "viTqzVC7p8u4"
      },
      "execution_count": null,
      "outputs": []
    },
    {
      "cell_type": "code",
      "source": [
        "def prepare_data_for_model(df):\n",
        "  \"\"\"\n",
        "  Prepares data for machine learning model.\n",
        "  \"\"\"\n",
        "  # Feature selection (consider including additional features based on your data)\n",
        "  features = [\"Category\"]  # Example features\n",
        "  X = df[features]\n",
        "  # Target variable (e.g., amount spent in the previous month)\n",
        "  y = df[\"Amount\"]\n",
        "  # Split data into training and testing sets\n",
        "  X_train, X_test, y_train, y_test = train_test_split(X, y, test_size=0.2)\n",
        "  return X_train, X_test, y_train, y_test\n",
        "\n",
        "# Prepare data for the model\n",
        "X_train, X_test, y_train, y_test = prepare_data_for_model(monthly_data)\n"
      ],
      "metadata": {
        "id": "NAUt_fDpwMmw"
      },
      "execution_count": null,
      "outputs": []
    },
    {
      "cell_type": "code",
      "source": [
        "# Example model: Linear Regression\n",
        "model = LinearRegression()\n",
        "model.fit(X_train, y_train)\n"
      ],
      "metadata": {
        "id": "iUhfYkMBwySn"
      },
      "execution_count": null,
      "outputs": []
    },
    {
      "cell_type": "code",
      "source": [
        "# Predict spending for next month on the test set (example)\n",
        "predicted_spend = model.predict(X_test)\n"
      ],
      "metadata": {
        "id": "hyS4t3V6w1TZ"
      },
      "execution_count": null,
      "outputs": []
    },
    {
      "cell_type": "code",
      "source": [
        "# Combine past spending analysis and model predictions (adjust based on your needs)\n",
        "suggested_budget = 0.8 * avg_monthly_spend + 0.2 * predicted_spend  # Example weighting\n",
        "\n",
        "# Display or store suggested budget for each category\n",
        "for category, budget in suggested_budget.items():\n",
        "  print(f\"Category: {category}, Suggested Budget: ${budget:.2f}\")\n",
        "\n"
      ],
      "metadata": {
        "id": "HSmzWhhIw5J6"
      },
      "execution_count": null,
      "outputs": []
    },
    {
      "cell_type": "code",
      "source": [
        "import pandas as pd\n",
        "from sklearn.ensemble import RandomForestRegressor\n",
        "\n",
        "\n",
        "\n",
        "# Define functions for data preparation and model training\n",
        "def prepare_data(monthly_data):\n",
        "\n",
        "  # Select relevant features\n",
        "  features = ['Category', 'Month']  # You can add more features if needed\n",
        "  X = monthly_data[features] # One-hot encode categorical features\n",
        "\n",
        "  # Prepare target variable (average monthly spend per category)\n",
        "  monthly_data['Month'] = pd.to_datetime(damonthly_datata['Date']).dt.month  # Extract month\n",
        "  monthly_spend = monthly_data.groupby(['Category', 'Month'])['Amount'].sum().unstack()\n",
        "  y = monthly_spend.mean(axis=1)  # Average monthly spend per category\n",
        "\n",
        "  return X, y\n",
        "\n",
        "def train_model(X, y):\n",
        "\n",
        "  model = RandomForestRegressor(n_estimators=100, random_state=42)\n",
        "  model.fit(X, y)\n",
        "  return model\n",
        "\n",
        "# Prepare data\n",
        "X, y = prepare_data(df.copy())  # Copy data to avoid modifying original\n",
        "\n",
        "# Train model\n",
        "model = train_model(X, y)\n",
        "\n",
        "# Function to predict budget suggestions\n",
        "def predict_budget(model, features):\n",
        "  X_pred = pd.DataFrame.from_dict([features])\n",
        "  X_pred = pd.get_dummies(X_pred)  # One-hot encode categorical features\n",
        "  predictions = model.predict(X_pred)\n",
        "  return dict(zip(features['Category'], predictions))\n",
        "\n",
        "# Example usage: predict budget suggestions for a specific category and month\n",
        "category = \"Restaurants\"\n",
        "month = 5  # Assuming May 2024\n",
        "features = {'Category': category, 'Month': month}\n",
        "budget_suggestions = predict_budget(model, features)\n",
        "print(f\"Predicted average spend for '{category}' in May 2024: ${budget_suggestions[category]:.2f}\")\n"
      ],
      "metadata": {
        "id": "zujPkuAaxoTP"
      },
      "execution_count": null,
      "outputs": []
    }
  ]
}